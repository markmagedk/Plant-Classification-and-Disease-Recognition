{
 "cells": [
  {
   "cell_type": "code",
   "execution_count": 1,
   "id": "5e2f0856",
   "metadata": {
    "_cell_guid": "b1076dfc-b9ad-4769-8c92-a6c4dae69d19",
    "_uuid": "8f2839f25d086af736a60e9eeb907d3b93b6e0e5",
    "execution": {
     "iopub.execute_input": "2025-03-24T15:38:12.803124Z",
     "iopub.status.busy": "2025-03-24T15:38:12.802833Z",
     "iopub.status.idle": "2025-03-24T15:38:25.592482Z",
     "shell.execute_reply": "2025-03-24T15:38:25.591771Z"
    },
    "papermill": {
     "duration": 12.795763,
     "end_time": "2025-03-24T15:38:25.594129",
     "exception": false,
     "start_time": "2025-03-24T15:38:12.798366",
     "status": "completed"
    },
    "tags": []
   },
   "outputs": [],
   "source": [
    "import os\n",
    "import shutil\n",
    "import numpy as np\n",
    "import matplotlib.pyplot as plt\n",
    "import tensorflow as tf\n",
    "from tensorflow.keras.preprocessing.image import ImageDataGenerator\n",
    "from tensorflow.keras.callbacks import ReduceLROnPlateau, EarlyStopping\n",
    "from tensorflow.keras import layers, models\n",
    "from tensorflow.keras.applications import MobileNetV2"
   ]
  },
  {
   "cell_type": "code",
   "execution_count": 2,
   "id": "ff4509f8",
   "metadata": {
    "execution": {
     "iopub.execute_input": "2025-03-24T15:38:25.600981Z",
     "iopub.status.busy": "2025-03-24T15:38:25.600466Z",
     "iopub.status.idle": "2025-03-24T15:38:25.604274Z",
     "shell.execute_reply": "2025-03-24T15:38:25.603318Z"
    },
    "papermill": {
     "duration": 0.008354,
     "end_time": "2025-03-24T15:38:25.605628",
     "exception": false,
     "start_time": "2025-03-24T15:38:25.597274",
     "status": "completed"
    },
    "tags": []
   },
   "outputs": [],
   "source": [
    "# Paths to Kaggle dataset folders\n",
    "train_dir = \"/kaggle/input/healthy-and-diseased-plants/Project Data/Project Data/Train/images\"\n",
    "val_dir = \"/kaggle/input/healthy-and-diseased-plants/Project Data/Project Data/Val/images\"\n",
    "\n",
    "# Paths for organized dataset (9 plant types)\n",
    "output_train_dir = \"/kaggle/working/Train_Organized\"\n",
    "output_val_dir = \"/kaggle/working/Val_Organized\""
   ]
  },
  {
   "cell_type": "code",
   "execution_count": 3,
   "id": "30019c52",
   "metadata": {
    "execution": {
     "iopub.execute_input": "2025-03-24T15:38:25.611784Z",
     "iopub.status.busy": "2025-03-24T15:38:25.611510Z",
     "iopub.status.idle": "2025-03-24T15:38:25.615959Z",
     "shell.execute_reply": "2025-03-24T15:38:25.615154Z"
    },
    "papermill": {
     "duration": 0.008931,
     "end_time": "2025-03-24T15:38:25.617256",
     "exception": false,
     "start_time": "2025-03-24T15:38:25.608325",
     "status": "completed"
    },
    "tags": []
   },
   "outputs": [],
   "source": [
    "# Define mapping for 9 plant types\n",
    "plant_type_mapping = {\n",
    "    \"Apple___Apple_scab\": \"Apple\",\n",
    "    \"Apple___Black_rot\": \"Apple\",\n",
    "    \"Apple___Cedar_apple_rust\": \"Apple\",\n",
    "    \"Apple___healthy\": \"Apple\",\n",
    "    \"Cherry_(including_sour)___Powdery_mildew\": \"Cherry\",\n",
    "    \"Cherry_(including_sour)___healthy\": \"Cherry\",\n",
    "    \"Corn_(maize)___Cercospora_leaf_spot Gray_leaf_spot\": \"Corn\",\n",
    "    \"Corn_(maize)___Common_rust_\": \"Corn\",\n",
    "    \"Corn_(maize)___Northern_Leaf_Blight\": \"Corn\",\n",
    "    \"Corn_(maize)___healthy\": \"Corn\",\n",
    "    \"Grape___Black_rot\": \"Grape\",\n",
    "    \"Grape___Esca_(Black_Measles)\": \"Grape\",\n",
    "    \"Grape___Leaf_blight_(Isariopsis_Leaf_Spot)\": \"Grape\",\n",
    "    \"Grape___healthy\": \"Grape\",\n",
    "    \"Peach___Bacterial_spot\": \"Peach\",\n",
    "    \"Peach___healthy\": \"Peach\",\n",
    "    \"Pepper,_bell___Bacterial_spot\": \"Pepper\",\n",
    "    \"Pepper,_bell___healthy\": \"Pepper\",\n",
    "    \"Potato___Early_blight\": \"Potato\",\n",
    "    \"Potato___Late_blight\": \"Potato\",\n",
    "    \"Potato___healthy\": \"Potato\",\n",
    "    \"Strawberry___Leaf_scorch\": \"Strawberry\",\n",
    "    \"Strawberry___healthy\": \"Strawberry\",\n",
    "    \"Tomato___Bacterial_spot\": \"Tomato\",\n",
    "    \"Tomato___Early_blight\": \"Tomato\",\n",
    "    \"Tomato___Late_blight\": \"Tomato\",\n",
    "    \"Tomato___Leaf_Mold\": \"Tomato\",\n",
    "    \"Tomato___Septoria_leaf_spot\": \"Tomato\",\n",
    "    \"Tomato___Spider_mites Two-spotted_spider_mite\": \"Tomato\",\n",
    "    \"Tomato___Target_Spot\": \"Tomato\",\n",
    "    \"Tomato___Tomato_Yellow_Leaf_Curl_Virus\": \"Tomato\",\n",
    "    \"Tomato___Tomato_mosaic_virus\": \"Tomato\",\n",
    "    \"Tomato___healthy\": \"Tomato\",\n",
    "}"
   ]
  },
  {
   "cell_type": "code",
   "execution_count": 4,
   "id": "0286bd4a",
   "metadata": {
    "execution": {
     "iopub.execute_input": "2025-03-24T15:38:25.623294Z",
     "iopub.status.busy": "2025-03-24T15:38:25.623084Z",
     "iopub.status.idle": "2025-03-24T15:38:35.448443Z",
     "shell.execute_reply": "2025-03-24T15:38:35.447564Z"
    },
    "papermill": {
     "duration": 9.829871,
     "end_time": "2025-03-24T15:38:35.449790",
     "exception": false,
     "start_time": "2025-03-24T15:38:25.619919",
     "status": "completed"
    },
    "tags": []
   },
   "outputs": [
    {
     "name": "stdout",
     "output_type": "stream",
     "text": [
      "✅ Images successfully organized into 9 plant types!\n"
     ]
    }
   ],
   "source": [
    "# Create directories for 9 plant types\n",
    "for plant_type in set(plant_type_mapping.values()):\n",
    "    os.makedirs(os.path.join(output_train_dir, plant_type), exist_ok=True)\n",
    "    os.makedirs(os.path.join(output_val_dir, plant_type), exist_ok=True)\n",
    "\n",
    "def organize_images(source_dir, target_dir):\n",
    "    for category in os.listdir(source_dir):\n",
    "        category_path = os.path.join(source_dir, category)\n",
    "        if not os.path.isdir(category_path):\n",
    "            continue\n",
    "        \n",
    "        # Check if category belongs to the mapping\n",
    "        plant_type = plant_type_mapping.get(category)\n",
    "        if plant_type:\n",
    "            for image in os.listdir(category_path):\n",
    "                source_image_path = os.path.join(category_path, image)\n",
    "                target_image_path = os.path.join(target_dir, plant_type, image)\n",
    "                shutil.copy(source_image_path, target_image_path)\n",
    "\n",
    "# Organize training and validation images\n",
    "organize_images(train_dir, output_train_dir)\n",
    "organize_images(val_dir, output_val_dir)\n",
    "\n",
    "print(\"✅ Images successfully organized into 9 plant types!\")"
   ]
  },
  {
   "cell_type": "code",
   "execution_count": 5,
   "id": "6fd92f58",
   "metadata": {
    "execution": {
     "iopub.execute_input": "2025-03-24T15:38:35.456297Z",
     "iopub.status.busy": "2025-03-24T15:38:35.456072Z",
     "iopub.status.idle": "2025-03-24T15:38:35.510061Z",
     "shell.execute_reply": "2025-03-24T15:38:35.509290Z"
    },
    "papermill": {
     "duration": 0.058563,
     "end_time": "2025-03-24T15:38:35.511268",
     "exception": false,
     "start_time": "2025-03-24T15:38:35.452705",
     "status": "completed"
    },
    "tags": []
   },
   "outputs": [
    {
     "name": "stdout",
     "output_type": "stream",
     "text": [
      "Found 1320 images belonging to 9 classes.\n",
      "Found 330 images belonging to 9 classes.\n"
     ]
    }
   ],
   "source": [
    "img_size = (224, 224)  # Resize images\n",
    "\n",
    "train_datagen = ImageDataGenerator(\n",
    "    rescale=1./255,\n",
    "    rotation_range=30,\n",
    "    width_shift_range=0.2,\n",
    "    height_shift_range=0.2,\n",
    "    shear_range=0.2,\n",
    "    zoom_range=0.2,\n",
    "    horizontal_flip=True,\n",
    "    fill_mode='nearest'\n",
    ")\n",
    "\n",
    "val_datagen = ImageDataGenerator(rescale=1./255)\n",
    "\n",
    "train_generator = train_datagen.flow_from_directory(\n",
    "    output_train_dir,\n",
    "    target_size=img_size,\n",
    "    batch_size=32,\n",
    "    class_mode=\"categorical\"\n",
    ")\n",
    "\n",
    "val_generator = val_datagen.flow_from_directory(\n",
    "    output_val_dir,\n",
    "    target_size=img_size,\n",
    "    batch_size=32,\n",
    "    class_mode=\"categorical\"\n",
    ")"
   ]
  },
  {
   "cell_type": "code",
   "execution_count": 6,
   "id": "76d45e2d",
   "metadata": {
    "execution": {
     "iopub.execute_input": "2025-03-24T15:38:35.517958Z",
     "iopub.status.busy": "2025-03-24T15:38:35.517688Z",
     "iopub.status.idle": "2025-03-24T15:38:39.223062Z",
     "shell.execute_reply": "2025-03-24T15:38:39.222199Z"
    },
    "papermill": {
     "duration": 3.709957,
     "end_time": "2025-03-24T15:38:39.224256",
     "exception": false,
     "start_time": "2025-03-24T15:38:35.514299",
     "status": "completed"
    },
    "tags": []
   },
   "outputs": [
    {
     "name": "stdout",
     "output_type": "stream",
     "text": [
      "Downloading data from https://storage.googleapis.com/tensorflow/keras-applications/mobilenet_v2/mobilenet_v2_weights_tf_dim_ordering_tf_kernels_1.0_224_no_top.h5\n",
      "\u001b[1m9406464/9406464\u001b[0m \u001b[32m━━━━━━━━━━━━━━━━━━━━\u001b[0m\u001b[37m\u001b[0m \u001b[1m0s\u001b[0m 0us/step\n"
     ]
    },
    {
     "data": {
      "text/html": [
       "<pre style=\"white-space:pre;overflow-x:auto;line-height:normal;font-family:Menlo,'DejaVu Sans Mono',consolas,'Courier New',monospace\"><span style=\"font-weight: bold\">Model: \"sequential\"</span>\n",
       "</pre>\n"
      ],
      "text/plain": [
       "\u001b[1mModel: \"sequential\"\u001b[0m\n"
      ]
     },
     "metadata": {},
     "output_type": "display_data"
    },
    {
     "data": {
      "text/html": [
       "<pre style=\"white-space:pre;overflow-x:auto;line-height:normal;font-family:Menlo,'DejaVu Sans Mono',consolas,'Courier New',monospace\">┏━━━━━━━━━━━━━━━━━━━━━━━━━━━━━━━━━━━━━━┳━━━━━━━━━━━━━━━━━━━━━━━━━━━━━┳━━━━━━━━━━━━━━━━━┓\n",
       "┃<span style=\"font-weight: bold\"> Layer (type)                         </span>┃<span style=\"font-weight: bold\"> Output Shape                </span>┃<span style=\"font-weight: bold\">         Param # </span>┃\n",
       "┡━━━━━━━━━━━━━━━━━━━━━━━━━━━━━━━━━━━━━━╇━━━━━━━━━━━━━━━━━━━━━━━━━━━━━╇━━━━━━━━━━━━━━━━━┩\n",
       "│ mobilenetv2_1.00_224 (<span style=\"color: #0087ff; text-decoration-color: #0087ff\">Functional</span>)    │ (<span style=\"color: #00d7ff; text-decoration-color: #00d7ff\">None</span>, <span style=\"color: #00af00; text-decoration-color: #00af00\">7</span>, <span style=\"color: #00af00; text-decoration-color: #00af00\">7</span>, <span style=\"color: #00af00; text-decoration-color: #00af00\">1280</span>)          │       <span style=\"color: #00af00; text-decoration-color: #00af00\">2,257,984</span> │\n",
       "├──────────────────────────────────────┼─────────────────────────────┼─────────────────┤\n",
       "│ global_average_pooling2d             │ (<span style=\"color: #00d7ff; text-decoration-color: #00d7ff\">None</span>, <span style=\"color: #00af00; text-decoration-color: #00af00\">1280</span>)                │               <span style=\"color: #00af00; text-decoration-color: #00af00\">0</span> │\n",
       "│ (<span style=\"color: #0087ff; text-decoration-color: #0087ff\">GlobalAveragePooling2D</span>)             │                             │                 │\n",
       "├──────────────────────────────────────┼─────────────────────────────┼─────────────────┤\n",
       "│ dense (<span style=\"color: #0087ff; text-decoration-color: #0087ff\">Dense</span>)                        │ (<span style=\"color: #00d7ff; text-decoration-color: #00d7ff\">None</span>, <span style=\"color: #00af00; text-decoration-color: #00af00\">512</span>)                 │         <span style=\"color: #00af00; text-decoration-color: #00af00\">655,872</span> │\n",
       "├──────────────────────────────────────┼─────────────────────────────┼─────────────────┤\n",
       "│ dropout (<span style=\"color: #0087ff; text-decoration-color: #0087ff\">Dropout</span>)                    │ (<span style=\"color: #00d7ff; text-decoration-color: #00d7ff\">None</span>, <span style=\"color: #00af00; text-decoration-color: #00af00\">512</span>)                 │               <span style=\"color: #00af00; text-decoration-color: #00af00\">0</span> │\n",
       "├──────────────────────────────────────┼─────────────────────────────┼─────────────────┤\n",
       "│ dense_1 (<span style=\"color: #0087ff; text-decoration-color: #0087ff\">Dense</span>)                      │ (<span style=\"color: #00d7ff; text-decoration-color: #00d7ff\">None</span>, <span style=\"color: #00af00; text-decoration-color: #00af00\">9</span>)                   │           <span style=\"color: #00af00; text-decoration-color: #00af00\">4,617</span> │\n",
       "└──────────────────────────────────────┴─────────────────────────────┴─────────────────┘\n",
       "</pre>\n"
      ],
      "text/plain": [
       "┏━━━━━━━━━━━━━━━━━━━━━━━━━━━━━━━━━━━━━━┳━━━━━━━━━━━━━━━━━━━━━━━━━━━━━┳━━━━━━━━━━━━━━━━━┓\n",
       "┃\u001b[1m \u001b[0m\u001b[1mLayer (type)                        \u001b[0m\u001b[1m \u001b[0m┃\u001b[1m \u001b[0m\u001b[1mOutput Shape               \u001b[0m\u001b[1m \u001b[0m┃\u001b[1m \u001b[0m\u001b[1m        Param #\u001b[0m\u001b[1m \u001b[0m┃\n",
       "┡━━━━━━━━━━━━━━━━━━━━━━━━━━━━━━━━━━━━━━╇━━━━━━━━━━━━━━━━━━━━━━━━━━━━━╇━━━━━━━━━━━━━━━━━┩\n",
       "│ mobilenetv2_1.00_224 (\u001b[38;5;33mFunctional\u001b[0m)    │ (\u001b[38;5;45mNone\u001b[0m, \u001b[38;5;34m7\u001b[0m, \u001b[38;5;34m7\u001b[0m, \u001b[38;5;34m1280\u001b[0m)          │       \u001b[38;5;34m2,257,984\u001b[0m │\n",
       "├──────────────────────────────────────┼─────────────────────────────┼─────────────────┤\n",
       "│ global_average_pooling2d             │ (\u001b[38;5;45mNone\u001b[0m, \u001b[38;5;34m1280\u001b[0m)                │               \u001b[38;5;34m0\u001b[0m │\n",
       "│ (\u001b[38;5;33mGlobalAveragePooling2D\u001b[0m)             │                             │                 │\n",
       "├──────────────────────────────────────┼─────────────────────────────┼─────────────────┤\n",
       "│ dense (\u001b[38;5;33mDense\u001b[0m)                        │ (\u001b[38;5;45mNone\u001b[0m, \u001b[38;5;34m512\u001b[0m)                 │         \u001b[38;5;34m655,872\u001b[0m │\n",
       "├──────────────────────────────────────┼─────────────────────────────┼─────────────────┤\n",
       "│ dropout (\u001b[38;5;33mDropout\u001b[0m)                    │ (\u001b[38;5;45mNone\u001b[0m, \u001b[38;5;34m512\u001b[0m)                 │               \u001b[38;5;34m0\u001b[0m │\n",
       "├──────────────────────────────────────┼─────────────────────────────┼─────────────────┤\n",
       "│ dense_1 (\u001b[38;5;33mDense\u001b[0m)                      │ (\u001b[38;5;45mNone\u001b[0m, \u001b[38;5;34m9\u001b[0m)                   │           \u001b[38;5;34m4,617\u001b[0m │\n",
       "└──────────────────────────────────────┴─────────────────────────────┴─────────────────┘\n"
      ]
     },
     "metadata": {},
     "output_type": "display_data"
    },
    {
     "data": {
      "text/html": [
       "<pre style=\"white-space:pre;overflow-x:auto;line-height:normal;font-family:Menlo,'DejaVu Sans Mono',consolas,'Courier New',monospace\"><span style=\"font-weight: bold\"> Total params: </span><span style=\"color: #00af00; text-decoration-color: #00af00\">2,918,473</span> (11.13 MB)\n",
       "</pre>\n"
      ],
      "text/plain": [
       "\u001b[1m Total params: \u001b[0m\u001b[38;5;34m2,918,473\u001b[0m (11.13 MB)\n"
      ]
     },
     "metadata": {},
     "output_type": "display_data"
    },
    {
     "data": {
      "text/html": [
       "<pre style=\"white-space:pre;overflow-x:auto;line-height:normal;font-family:Menlo,'DejaVu Sans Mono',consolas,'Courier New',monospace\"><span style=\"font-weight: bold\"> Trainable params: </span><span style=\"color: #00af00; text-decoration-color: #00af00\">660,489</span> (2.52 MB)\n",
       "</pre>\n"
      ],
      "text/plain": [
       "\u001b[1m Trainable params: \u001b[0m\u001b[38;5;34m660,489\u001b[0m (2.52 MB)\n"
      ]
     },
     "metadata": {},
     "output_type": "display_data"
    },
    {
     "data": {
      "text/html": [
       "<pre style=\"white-space:pre;overflow-x:auto;line-height:normal;font-family:Menlo,'DejaVu Sans Mono',consolas,'Courier New',monospace\"><span style=\"font-weight: bold\"> Non-trainable params: </span><span style=\"color: #00af00; text-decoration-color: #00af00\">2,257,984</span> (8.61 MB)\n",
       "</pre>\n"
      ],
      "text/plain": [
       "\u001b[1m Non-trainable params: \u001b[0m\u001b[38;5;34m2,257,984\u001b[0m (8.61 MB)\n"
      ]
     },
     "metadata": {},
     "output_type": "display_data"
    }
   ],
   "source": [
    "# Load MobileNetV2 as the base model\n",
    "base_model = MobileNetV2(input_shape=(224, 224, 3), include_top=False, weights='imagenet')\n",
    "base_model.trainable = False  # Freeze the pretrained layers\n",
    "\n",
    "# Build the model\n",
    "model = models.Sequential([\n",
    "    base_model,\n",
    "    layers.GlobalAveragePooling2D(),\n",
    "    layers.Dense(512, activation='relu'),\n",
    "    layers.Dropout(0.5),\n",
    "    layers.Dense(9, activation='softmax')  # 9 plant types\n",
    "])\n",
    "\n",
    "model.compile(optimizer='adam', loss='categorical_crossentropy', metrics=['accuracy'])\n",
    "model.summary()"
   ]
  },
  {
   "cell_type": "code",
   "execution_count": 7,
   "id": "d0e626cf",
   "metadata": {
    "execution": {
     "iopub.execute_input": "2025-03-24T15:38:39.232371Z",
     "iopub.status.busy": "2025-03-24T15:38:39.232144Z",
     "iopub.status.idle": "2025-03-24T15:43:43.019589Z",
     "shell.execute_reply": "2025-03-24T15:43:43.018865Z"
    },
    "papermill": {
     "duration": 303.793253,
     "end_time": "2025-03-24T15:43:43.021255",
     "exception": false,
     "start_time": "2025-03-24T15:38:39.228002",
     "status": "completed"
    },
    "tags": []
   },
   "outputs": [
    {
     "name": "stdout",
     "output_type": "stream",
     "text": [
      "Epoch 1/20\n"
     ]
    },
    {
     "name": "stderr",
     "output_type": "stream",
     "text": [
      "/usr/local/lib/python3.10/dist-packages/keras/src/trainers/data_adapters/py_dataset_adapter.py:122: UserWarning: Your `PyDataset` class should call `super().__init__(**kwargs)` in its constructor. `**kwargs` can include `workers`, `use_multiprocessing`, `max_queue_size`. Do not pass these arguments to `fit()`, as they will be ignored.\n",
      "  self._warn_if_super_not_called()\n"
     ]
    },
    {
     "name": "stdout",
     "output_type": "stream",
     "text": [
      "\u001b[1m42/42\u001b[0m \u001b[32m━━━━━━━━━━━━━━━━━━━━\u001b[0m\u001b[37m\u001b[0m \u001b[1m33s\u001b[0m 495ms/step - accuracy: 0.4743 - loss: 1.6816 - val_accuracy: 0.9030 - val_loss: 0.3774 - learning_rate: 0.0010\n",
      "Epoch 2/20\n",
      "\u001b[1m42/42\u001b[0m \u001b[32m━━━━━━━━━━━━━━━━━━━━\u001b[0m\u001b[37m\u001b[0m \u001b[1m14s\u001b[0m 273ms/step - accuracy: 0.8231 - loss: 0.5499 - val_accuracy: 0.9152 - val_loss: 0.2504 - learning_rate: 0.0010\n",
      "Epoch 3/20\n",
      "\u001b[1m42/42\u001b[0m \u001b[32m━━━━━━━━━━━━━━━━━━━━\u001b[0m\u001b[37m\u001b[0m \u001b[1m14s\u001b[0m 276ms/step - accuracy: 0.8685 - loss: 0.3739 - val_accuracy: 0.9152 - val_loss: 0.2734 - learning_rate: 0.0010\n",
      "Epoch 4/20\n",
      "\u001b[1m42/42\u001b[0m \u001b[32m━━━━━━━━━━━━━━━━━━━━\u001b[0m\u001b[37m\u001b[0m \u001b[1m14s\u001b[0m 272ms/step - accuracy: 0.8863 - loss: 0.3648 - val_accuracy: 0.9515 - val_loss: 0.1795 - learning_rate: 0.0010\n",
      "Epoch 5/20\n",
      "\u001b[1m42/42\u001b[0m \u001b[32m━━━━━━━━━━━━━━━━━━━━\u001b[0m\u001b[37m\u001b[0m \u001b[1m14s\u001b[0m 282ms/step - accuracy: 0.9096 - loss: 0.2571 - val_accuracy: 0.9394 - val_loss: 0.1757 - learning_rate: 0.0010\n",
      "Epoch 6/20\n",
      "\u001b[1m42/42\u001b[0m \u001b[32m━━━━━━━━━━━━━━━━━━━━\u001b[0m\u001b[37m\u001b[0m \u001b[1m14s\u001b[0m 271ms/step - accuracy: 0.9236 - loss: 0.2566 - val_accuracy: 0.9152 - val_loss: 0.2511 - learning_rate: 0.0010\n",
      "Epoch 7/20\n",
      "\u001b[1m42/42\u001b[0m \u001b[32m━━━━━━━━━━━━━━━━━━━━\u001b[0m\u001b[37m\u001b[0m \u001b[1m14s\u001b[0m 278ms/step - accuracy: 0.9089 - loss: 0.2617 - val_accuracy: 0.9364 - val_loss: 0.1970 - learning_rate: 0.0010\n",
      "Epoch 8/20\n",
      "\u001b[1m42/42\u001b[0m \u001b[32m━━━━━━━━━━━━━━━━━━━━\u001b[0m\u001b[37m\u001b[0m \u001b[1m14s\u001b[0m 278ms/step - accuracy: 0.9229 - loss: 0.2095 - val_accuracy: 0.9515 - val_loss: 0.1586 - learning_rate: 0.0010\n",
      "Epoch 9/20\n",
      "\u001b[1m42/42\u001b[0m \u001b[32m━━━━━━━━━━━━━━━━━━━━\u001b[0m\u001b[37m\u001b[0m \u001b[1m14s\u001b[0m 278ms/step - accuracy: 0.9344 - loss: 0.2151 - val_accuracy: 0.9515 - val_loss: 0.1273 - learning_rate: 0.0010\n",
      "Epoch 10/20\n",
      "\u001b[1m42/42\u001b[0m \u001b[32m━━━━━━━━━━━━━━━━━━━━\u001b[0m\u001b[37m\u001b[0m \u001b[1m21s\u001b[0m 279ms/step - accuracy: 0.9337 - loss: 0.1773 - val_accuracy: 0.9606 - val_loss: 0.1097 - learning_rate: 0.0010\n",
      "Epoch 11/20\n",
      "\u001b[1m42/42\u001b[0m \u001b[32m━━━━━━━━━━━━━━━━━━━━\u001b[0m\u001b[37m\u001b[0m \u001b[1m14s\u001b[0m 273ms/step - accuracy: 0.9513 - loss: 0.1623 - val_accuracy: 0.9636 - val_loss: 0.1030 - learning_rate: 0.0010\n",
      "Epoch 12/20\n",
      "\u001b[1m42/42\u001b[0m \u001b[32m━━━━━━━━━━━━━━━━━━━━\u001b[0m\u001b[37m\u001b[0m \u001b[1m14s\u001b[0m 283ms/step - accuracy: 0.9498 - loss: 0.1873 - val_accuracy: 0.9394 - val_loss: 0.1271 - learning_rate: 0.0010\n",
      "Epoch 13/20\n",
      "\u001b[1m42/42\u001b[0m \u001b[32m━━━━━━━━━━━━━━━━━━━━\u001b[0m\u001b[37m\u001b[0m \u001b[1m14s\u001b[0m 273ms/step - accuracy: 0.9398 - loss: 0.1613 - val_accuracy: 0.9636 - val_loss: 0.1068 - learning_rate: 0.0010\n",
      "Epoch 14/20\n",
      "\u001b[1m41/42\u001b[0m \u001b[32m━━━━━━━━━━━━━━━━━━━\u001b[0m\u001b[37m━\u001b[0m \u001b[1m0s\u001b[0m 268ms/step - accuracy: 0.9534 - loss: 0.1374\n",
      "Epoch 14: ReduceLROnPlateau reducing learning rate to 0.0005000000237487257.\n",
      "\u001b[1m42/42\u001b[0m \u001b[32m━━━━━━━━━━━━━━━━━━━━\u001b[0m\u001b[37m\u001b[0m \u001b[1m14s\u001b[0m 274ms/step - accuracy: 0.9533 - loss: 0.1374 - val_accuracy: 0.9606 - val_loss: 0.1391 - learning_rate: 0.0010\n",
      "Epoch 15/20\n",
      "\u001b[1m42/42\u001b[0m \u001b[32m━━━━━━━━━━━━━━━━━━━━\u001b[0m\u001b[37m\u001b[0m \u001b[1m14s\u001b[0m 279ms/step - accuracy: 0.9709 - loss: 0.1058 - val_accuracy: 0.9727 - val_loss: 0.0995 - learning_rate: 5.0000e-04\n",
      "Epoch 16/20\n",
      "\u001b[1m42/42\u001b[0m \u001b[32m━━━━━━━━━━━━━━━━━━━━\u001b[0m\u001b[37m\u001b[0m \u001b[1m14s\u001b[0m 275ms/step - accuracy: 0.9580 - loss: 0.1275 - val_accuracy: 0.9576 - val_loss: 0.1190 - learning_rate: 5.0000e-04\n",
      "Epoch 17/20\n",
      "\u001b[1m42/42\u001b[0m \u001b[32m━━━━━━━━━━━━━━━━━━━━\u001b[0m\u001b[37m\u001b[0m \u001b[1m14s\u001b[0m 271ms/step - accuracy: 0.9702 - loss: 0.0920 - val_accuracy: 0.9667 - val_loss: 0.1109 - learning_rate: 5.0000e-04\n",
      "Epoch 18/20\n",
      "\u001b[1m42/42\u001b[0m \u001b[32m━━━━━━━━━━━━━━━━━━━━\u001b[0m\u001b[37m\u001b[0m \u001b[1m14s\u001b[0m 276ms/step - accuracy: 0.9688 - loss: 0.1058 - val_accuracy: 0.9758 - val_loss: 0.0963 - learning_rate: 5.0000e-04\n",
      "Epoch 19/20\n",
      "\u001b[1m42/42\u001b[0m \u001b[32m━━━━━━━━━━━━━━━━━━━━\u001b[0m\u001b[37m\u001b[0m \u001b[1m14s\u001b[0m 283ms/step - accuracy: 0.9566 - loss: 0.1213 - val_accuracy: 0.9727 - val_loss: 0.1039 - learning_rate: 5.0000e-04\n",
      "Epoch 20/20\n",
      "\u001b[1m42/42\u001b[0m \u001b[32m━━━━━━━━━━━━━━━━━━━━\u001b[0m\u001b[37m\u001b[0m \u001b[1m14s\u001b[0m 274ms/step - accuracy: 0.9678 - loss: 0.0990 - val_accuracy: 0.9667 - val_loss: 0.1001 - learning_rate: 5.0000e-04\n",
      "Restoring model weights from the end of the best epoch: 18.\n"
     ]
    }
   ],
   "source": [
    "# Reduce learning rate if validation loss stops improving\n",
    "lr_reduction = ReduceLROnPlateau(monitor='val_loss', patience=3, factor=0.5, verbose=1)\n",
    "\n",
    "# Stop training if validation loss doesn't improve for 5 epochs\n",
    "early_stop = EarlyStopping(monitor='val_loss', patience=5, restore_best_weights=True, verbose=1)\n",
    "\n",
    "# Train the model\n",
    "history = model.fit(\n",
    "    train_generator,\n",
    "    validation_data=val_generator,\n",
    "    epochs=20,  # Train longer, but with early stopping\n",
    "    callbacks=[lr_reduction, early_stop]\n",
    ")"
   ]
  },
  {
   "cell_type": "code",
   "execution_count": 8,
   "id": "fff56be7",
   "metadata": {
    "execution": {
     "iopub.execute_input": "2025-03-24T15:43:43.102077Z",
     "iopub.status.busy": "2025-03-24T15:43:43.101432Z",
     "iopub.status.idle": "2025-03-24T15:43:43.320268Z",
     "shell.execute_reply": "2025-03-24T15:43:43.319383Z"
    },
    "papermill": {
     "duration": 0.259907,
     "end_time": "2025-03-24T15:43:43.321712",
     "exception": false,
     "start_time": "2025-03-24T15:43:43.061805",
     "status": "completed"
    },
    "tags": []
   },
   "outputs": [
    {
     "name": "stdout",
     "output_type": "stream",
     "text": [
      "✅ Model saved successfully!\n"
     ]
    }
   ],
   "source": [
    "model.save(\"/kaggle/working/plant_type_classifier.h5\")\n",
    "print(\"✅ Model saved successfully!\")"
   ]
  },
  {
   "cell_type": "code",
   "execution_count": 9,
   "id": "dced20d4",
   "metadata": {
    "execution": {
     "iopub.execute_input": "2025-03-24T15:43:43.404196Z",
     "iopub.status.busy": "2025-03-24T15:43:43.403874Z",
     "iopub.status.idle": "2025-03-24T15:43:46.912686Z",
     "shell.execute_reply": "2025-03-24T15:43:46.911703Z"
    },
    "papermill": {
     "duration": 3.551885,
     "end_time": "2025-03-24T15:43:46.914194",
     "exception": false,
     "start_time": "2025-03-24T15:43:43.362309",
     "status": "completed"
    },
    "tags": []
   },
   "outputs": [
    {
     "name": "stdout",
     "output_type": "stream",
     "text": [
      "✅ Image pairs generated: 1320\n"
     ]
    }
   ],
   "source": [
    "import os\n",
    "import random\n",
    "import numpy as np\n",
    "from tensorflow.keras.preprocessing.image import load_img, img_to_array\n",
    "\n",
    "# Paths\n",
    "data_dir = \"/kaggle/working/Train_Organized\"  # Organized dataset from Stage A\n",
    "categories = os.listdir(data_dir)\n",
    "\n",
    "# Create pairs of images (Positive & Negative)\n",
    "pairs = []\n",
    "labels = []  # 1 = same class, 0 = different class\n",
    "img_size = (224, 224)\n",
    "\n",
    "def load_image(image_path):\n",
    "    \"\"\" Load image and convert to array \"\"\"\n",
    "    img = load_img(image_path, target_size=img_size)\n",
    "    img = img_to_array(img) / 255.0  # Normalize\n",
    "    return img\n",
    "\n",
    "# Generate Positive and Negative Pairs\n",
    "for category in categories:\n",
    "    category_path = os.path.join(data_dir, category)\n",
    "    images = os.listdir(category_path)\n",
    "\n",
    "# Positive Pairs (Same Disease)\n",
    "    for i in range(len(images) - 1):\n",
    "        img1 = load_image(os.path.join(category_path, images[i]))\n",
    "        img2 = load_image(os.path.join(category_path, images[i + 1]))\n",
    "        pairs.append((img1, img2))\n",
    "        labels.append(1)  # Same class\n",
    "\n",
    "    # Negative Pairs (Different Diseases)\n",
    "    other_category = random.choice([c for c in categories if c != category])\n",
    "    other_images = os.listdir(os.path.join(data_dir, other_category))\n",
    "\n",
    "    img1 = load_image(os.path.join(category_path, random.choice(images)))\n",
    "    img2 = load_image(os.path.join(data_dir, other_category, random.choice(other_images)))\n",
    "    \n",
    "    pairs.append((img1, img2))\n",
    "    labels.append(0)  # Different class\n",
    "\n",
    "# Convert to NumPy Arrays\n",
    "pairs = np.array(pairs)\n",
    "labels = np.array(labels)\n",
    "\n",
    "print(\"✅ Image pairs generated:\", len(pairs))"
   ]
  },
  {
   "cell_type": "code",
   "execution_count": 10,
   "id": "6b4af65d",
   "metadata": {
    "execution": {
     "iopub.execute_input": "2025-03-24T15:43:46.994013Z",
     "iopub.status.busy": "2025-03-24T15:43:46.993679Z",
     "iopub.status.idle": "2025-03-24T15:43:47.067663Z",
     "shell.execute_reply": "2025-03-24T15:43:47.067003Z"
    },
    "papermill": {
     "duration": 0.114742,
     "end_time": "2025-03-24T15:43:47.068853",
     "exception": false,
     "start_time": "2025-03-24T15:43:46.954111",
     "status": "completed"
    },
    "tags": []
   },
   "outputs": [
    {
     "name": "stderr",
     "output_type": "stream",
     "text": [
      "/usr/local/lib/python3.10/dist-packages/keras/src/layers/convolutional/base_conv.py:107: UserWarning: Do not pass an `input_shape`/`input_dim` argument to a layer. When using Sequential models, prefer using an `Input(shape)` object as the first layer in the model instead.\n",
      "  super().__init__(activity_regularizer=activity_regularizer, **kwargs)\n"
     ]
    },
    {
     "data": {
      "text/html": [
       "<pre style=\"white-space:pre;overflow-x:auto;line-height:normal;font-family:Menlo,'DejaVu Sans Mono',consolas,'Courier New',monospace\"><span style=\"font-weight: bold\">Model: \"functional_2\"</span>\n",
       "</pre>\n"
      ],
      "text/plain": [
       "\u001b[1mModel: \"functional_2\"\u001b[0m\n"
      ]
     },
     "metadata": {},
     "output_type": "display_data"
    },
    {
     "data": {
      "text/html": [
       "<pre style=\"white-space:pre;overflow-x:auto;line-height:normal;font-family:Menlo,'DejaVu Sans Mono',consolas,'Courier New',monospace\">┏━━━━━━━━━━━━━━━━━━━━━━━━━━━┳━━━━━━━━━━━━━━━━━━━━━━━━┳━━━━━━━━━━━━━━━━┳━━━━━━━━━━━━━━━━━━━━━━━━┓\n",
       "┃<span style=\"font-weight: bold\"> Layer (type)              </span>┃<span style=\"font-weight: bold\"> Output Shape           </span>┃<span style=\"font-weight: bold\">        Param # </span>┃<span style=\"font-weight: bold\"> Connected to           </span>┃\n",
       "┡━━━━━━━━━━━━━━━━━━━━━━━━━━━╇━━━━━━━━━━━━━━━━━━━━━━━━╇━━━━━━━━━━━━━━━━╇━━━━━━━━━━━━━━━━━━━━━━━━┩\n",
       "│ input_layer_2             │ (<span style=\"color: #00d7ff; text-decoration-color: #00d7ff\">None</span>, <span style=\"color: #00af00; text-decoration-color: #00af00\">224</span>, <span style=\"color: #00af00; text-decoration-color: #00af00\">224</span>, <span style=\"color: #00af00; text-decoration-color: #00af00\">3</span>)    │              <span style=\"color: #00af00; text-decoration-color: #00af00\">0</span> │ -                      │\n",
       "│ (<span style=\"color: #0087ff; text-decoration-color: #0087ff\">InputLayer</span>)              │                        │                │                        │\n",
       "├───────────────────────────┼────────────────────────┼────────────────┼────────────────────────┤\n",
       "│ input_layer_3             │ (<span style=\"color: #00d7ff; text-decoration-color: #00d7ff\">None</span>, <span style=\"color: #00af00; text-decoration-color: #00af00\">224</span>, <span style=\"color: #00af00; text-decoration-color: #00af00\">224</span>, <span style=\"color: #00af00; text-decoration-color: #00af00\">3</span>)    │              <span style=\"color: #00af00; text-decoration-color: #00af00\">0</span> │ -                      │\n",
       "│ (<span style=\"color: #0087ff; text-decoration-color: #0087ff\">InputLayer</span>)              │                        │                │                        │\n",
       "├───────────────────────────┼────────────────────────┼────────────────┼────────────────────────┤\n",
       "│ sequential_1 (<span style=\"color: #0087ff; text-decoration-color: #0087ff\">Sequential</span>) │ (<span style=\"color: #00d7ff; text-decoration-color: #00d7ff\">None</span>, <span style=\"color: #00af00; text-decoration-color: #00af00\">512</span>)            │     <span style=\"color: #00af00; text-decoration-color: #00af00\">88,976,000</span> │ input_layer_2[<span style=\"color: #00af00; text-decoration-color: #00af00\">0</span>][<span style=\"color: #00af00; text-decoration-color: #00af00\">0</span>],   │\n",
       "│                           │                        │                │ input_layer_3[<span style=\"color: #00af00; text-decoration-color: #00af00\">0</span>][<span style=\"color: #00af00; text-decoration-color: #00af00\">0</span>]    │\n",
       "├───────────────────────────┼────────────────────────┼────────────────┼────────────────────────┤\n",
       "│ lambda (<span style=\"color: #0087ff; text-decoration-color: #0087ff\">Lambda</span>)           │ (<span style=\"color: #00d7ff; text-decoration-color: #00d7ff\">None</span>, <span style=\"color: #00af00; text-decoration-color: #00af00\">512</span>)            │              <span style=\"color: #00af00; text-decoration-color: #00af00\">0</span> │ sequential_1[<span style=\"color: #00af00; text-decoration-color: #00af00\">0</span>][<span style=\"color: #00af00; text-decoration-color: #00af00\">0</span>],    │\n",
       "│                           │                        │                │ sequential_1[<span style=\"color: #00af00; text-decoration-color: #00af00\">1</span>][<span style=\"color: #00af00; text-decoration-color: #00af00\">0</span>]     │\n",
       "├───────────────────────────┼────────────────────────┼────────────────┼────────────────────────┤\n",
       "│ dense_3 (<span style=\"color: #0087ff; text-decoration-color: #0087ff\">Dense</span>)           │ (<span style=\"color: #00d7ff; text-decoration-color: #00d7ff\">None</span>, <span style=\"color: #00af00; text-decoration-color: #00af00\">1</span>)              │            <span style=\"color: #00af00; text-decoration-color: #00af00\">513</span> │ lambda[<span style=\"color: #00af00; text-decoration-color: #00af00\">0</span>][<span style=\"color: #00af00; text-decoration-color: #00af00\">0</span>]           │\n",
       "└───────────────────────────┴────────────────────────┴────────────────┴────────────────────────┘\n",
       "</pre>\n"
      ],
      "text/plain": [
       "┏━━━━━━━━━━━━━━━━━━━━━━━━━━━┳━━━━━━━━━━━━━━━━━━━━━━━━┳━━━━━━━━━━━━━━━━┳━━━━━━━━━━━━━━━━━━━━━━━━┓\n",
       "┃\u001b[1m \u001b[0m\u001b[1mLayer (type)             \u001b[0m\u001b[1m \u001b[0m┃\u001b[1m \u001b[0m\u001b[1mOutput Shape          \u001b[0m\u001b[1m \u001b[0m┃\u001b[1m \u001b[0m\u001b[1m       Param #\u001b[0m\u001b[1m \u001b[0m┃\u001b[1m \u001b[0m\u001b[1mConnected to          \u001b[0m\u001b[1m \u001b[0m┃\n",
       "┡━━━━━━━━━━━━━━━━━━━━━━━━━━━╇━━━━━━━━━━━━━━━━━━━━━━━━╇━━━━━━━━━━━━━━━━╇━━━━━━━━━━━━━━━━━━━━━━━━┩\n",
       "│ input_layer_2             │ (\u001b[38;5;45mNone\u001b[0m, \u001b[38;5;34m224\u001b[0m, \u001b[38;5;34m224\u001b[0m, \u001b[38;5;34m3\u001b[0m)    │              \u001b[38;5;34m0\u001b[0m │ -                      │\n",
       "│ (\u001b[38;5;33mInputLayer\u001b[0m)              │                        │                │                        │\n",
       "├───────────────────────────┼────────────────────────┼────────────────┼────────────────────────┤\n",
       "│ input_layer_3             │ (\u001b[38;5;45mNone\u001b[0m, \u001b[38;5;34m224\u001b[0m, \u001b[38;5;34m224\u001b[0m, \u001b[38;5;34m3\u001b[0m)    │              \u001b[38;5;34m0\u001b[0m │ -                      │\n",
       "│ (\u001b[38;5;33mInputLayer\u001b[0m)              │                        │                │                        │\n",
       "├───────────────────────────┼────────────────────────┼────────────────┼────────────────────────┤\n",
       "│ sequential_1 (\u001b[38;5;33mSequential\u001b[0m) │ (\u001b[38;5;45mNone\u001b[0m, \u001b[38;5;34m512\u001b[0m)            │     \u001b[38;5;34m88,976,000\u001b[0m │ input_layer_2[\u001b[38;5;34m0\u001b[0m][\u001b[38;5;34m0\u001b[0m],   │\n",
       "│                           │                        │                │ input_layer_3[\u001b[38;5;34m0\u001b[0m][\u001b[38;5;34m0\u001b[0m]    │\n",
       "├───────────────────────────┼────────────────────────┼────────────────┼────────────────────────┤\n",
       "│ lambda (\u001b[38;5;33mLambda\u001b[0m)           │ (\u001b[38;5;45mNone\u001b[0m, \u001b[38;5;34m512\u001b[0m)            │              \u001b[38;5;34m0\u001b[0m │ sequential_1[\u001b[38;5;34m0\u001b[0m][\u001b[38;5;34m0\u001b[0m],    │\n",
       "│                           │                        │                │ sequential_1[\u001b[38;5;34m1\u001b[0m][\u001b[38;5;34m0\u001b[0m]     │\n",
       "├───────────────────────────┼────────────────────────┼────────────────┼────────────────────────┤\n",
       "│ dense_3 (\u001b[38;5;33mDense\u001b[0m)           │ (\u001b[38;5;45mNone\u001b[0m, \u001b[38;5;34m1\u001b[0m)              │            \u001b[38;5;34m513\u001b[0m │ lambda[\u001b[38;5;34m0\u001b[0m][\u001b[38;5;34m0\u001b[0m]           │\n",
       "└───────────────────────────┴────────────────────────┴────────────────┴────────────────────────┘\n"
      ]
     },
     "metadata": {},
     "output_type": "display_data"
    },
    {
     "data": {
      "text/html": [
       "<pre style=\"white-space:pre;overflow-x:auto;line-height:normal;font-family:Menlo,'DejaVu Sans Mono',consolas,'Courier New',monospace\"><span style=\"font-weight: bold\"> Total params: </span><span style=\"color: #00af00; text-decoration-color: #00af00\">88,976,513</span> (339.42 MB)\n",
       "</pre>\n"
      ],
      "text/plain": [
       "\u001b[1m Total params: \u001b[0m\u001b[38;5;34m88,976,513\u001b[0m (339.42 MB)\n"
      ]
     },
     "metadata": {},
     "output_type": "display_data"
    },
    {
     "data": {
      "text/html": [
       "<pre style=\"white-space:pre;overflow-x:auto;line-height:normal;font-family:Menlo,'DejaVu Sans Mono',consolas,'Courier New',monospace\"><span style=\"font-weight: bold\"> Trainable params: </span><span style=\"color: #00af00; text-decoration-color: #00af00\">88,976,513</span> (339.42 MB)\n",
       "</pre>\n"
      ],
      "text/plain": [
       "\u001b[1m Trainable params: \u001b[0m\u001b[38;5;34m88,976,513\u001b[0m (339.42 MB)\n"
      ]
     },
     "metadata": {},
     "output_type": "display_data"
    },
    {
     "data": {
      "text/html": [
       "<pre style=\"white-space:pre;overflow-x:auto;line-height:normal;font-family:Menlo,'DejaVu Sans Mono',consolas,'Courier New',monospace\"><span style=\"font-weight: bold\"> Non-trainable params: </span><span style=\"color: #00af00; text-decoration-color: #00af00\">0</span> (0.00 B)\n",
       "</pre>\n"
      ],
      "text/plain": [
       "\u001b[1m Non-trainable params: \u001b[0m\u001b[38;5;34m0\u001b[0m (0.00 B)\n"
      ]
     },
     "metadata": {},
     "output_type": "display_data"
    }
   ],
   "source": [
    "import tensorflow as tf\n",
    "from tensorflow.keras import layers, models, Input, Model\n",
    "\n",
    "# Create CNN Model for Feature Extraction\n",
    "def build_base_model():\n",
    "    base_model = models.Sequential([\n",
    "        layers.Conv2D(64, (3, 3), activation='relu', input_shape=(224, 224, 3)),\n",
    "        layers.MaxPooling2D(2, 2),\n",
    "        layers.Conv2D(128, (3, 3), activation='relu'),\n",
    "        layers.MaxPooling2D(2, 2),\n",
    "        layers.Conv2D(256, (3, 3), activation='relu'),\n",
    "        layers.MaxPooling2D(2, 2),\n",
    "        layers.Flatten(),\n",
    "        layers.Dense(512, activation='relu')\n",
    "    ])\n",
    "    return base_model\n",
    "\n",
    "# Define Input Layers\n",
    "input_A = Input(shape=(224, 224, 3))\n",
    "input_B = Input(shape=(224, 224, 3))\n",
    "\n",
    "# Create Two CNN Branches\n",
    "base_model = build_base_model()\n",
    "encoded_A = base_model(input_A)\n",
    "encoded_B = base_model(input_B)\n",
    "\n",
    "# Compute Euclidean Distance Between Features\n",
    "distance = layers.Lambda(lambda x: tf.math.abs(x[0] - x[1]))([encoded_A, encoded_B])\n",
    "\n",
    "# Fully Connected Layer\n",
    "output = layers.Dense(1, activation='sigmoid')(distance)\n",
    "\n",
    "# Build Siamese Model\n",
    "siamese_model = Model(inputs=[input_A, input_B], outputs=output)\n",
    "\n",
    "# Compile Model\n",
    "siamese_model.compile(loss=\"binary_crossentropy\", optimizer=\"adam\", metrics=[\"accuracy\"])\n",
    "siamese_model.summary()"
   ]
  },
  {
   "cell_type": "code",
   "execution_count": 11,
   "id": "6268b9bf",
   "metadata": {
    "execution": {
     "iopub.execute_input": "2025-03-24T15:43:47.150137Z",
     "iopub.status.busy": "2025-03-24T15:43:47.149846Z",
     "iopub.status.idle": "2025-03-24T15:46:34.851845Z",
     "shell.execute_reply": "2025-03-24T15:46:34.850915Z"
    },
    "papermill": {
     "duration": 167.743687,
     "end_time": "2025-03-24T15:46:34.853328",
     "exception": false,
     "start_time": "2025-03-24T15:43:47.109641",
     "status": "completed"
    },
    "tags": []
   },
   "outputs": [
    {
     "name": "stdout",
     "output_type": "stream",
     "text": [
      "Epoch 1/20\n",
      "\u001b[1m33/33\u001b[0m \u001b[32m━━━━━━━━━━━━━━━━━━━━\u001b[0m\u001b[37m\u001b[0m \u001b[1m24s\u001b[0m 376ms/step - accuracy: 0.9455 - loss: 0.2569 - val_accuracy: 0.9886 - val_loss: 0.5944\n",
      "Epoch 2/20\n",
      "\u001b[1m33/33\u001b[0m \u001b[32m━━━━━━━━━━━━━━━━━━━━\u001b[0m\u001b[37m\u001b[0m \u001b[1m8s\u001b[0m 227ms/step - accuracy: 0.9892 - loss: 0.3828 - val_accuracy: 0.9886 - val_loss: 0.0888\n",
      "Epoch 3/20\n",
      "\u001b[1m33/33\u001b[0m \u001b[32m━━━━━━━━━━━━━━━━━━━━\u001b[0m\u001b[37m\u001b[0m \u001b[1m8s\u001b[0m 226ms/step - accuracy: 0.9968 - loss: 0.0542 - val_accuracy: 0.9886 - val_loss: 0.0883\n",
      "Epoch 4/20\n",
      "\u001b[1m33/33\u001b[0m \u001b[32m━━━━━━━━━━━━━━━━━━━━\u001b[0m\u001b[37m\u001b[0m \u001b[1m8s\u001b[0m 227ms/step - accuracy: 0.9942 - loss: 0.0494 - val_accuracy: 0.9886 - val_loss: 0.1489\n",
      "Epoch 5/20\n",
      "\u001b[1m33/33\u001b[0m \u001b[32m━━━━━━━━━━━━━━━━━━━━\u001b[0m\u001b[37m\u001b[0m \u001b[1m7s\u001b[0m 226ms/step - accuracy: 0.9912 - loss: 0.0819 - val_accuracy: 0.9697 - val_loss: 0.1833\n",
      "Epoch 6/20\n",
      "\u001b[1m33/33\u001b[0m \u001b[32m━━━━━━━━━━━━━━━━━━━━\u001b[0m\u001b[37m\u001b[0m \u001b[1m7s\u001b[0m 225ms/step - accuracy: 0.9933 - loss: 0.0239 - val_accuracy: 0.9621 - val_loss: 0.1509\n",
      "Epoch 7/20\n",
      "\u001b[1m33/33\u001b[0m \u001b[32m━━━━━━━━━━━━━━━━━━━━\u001b[0m\u001b[37m\u001b[0m \u001b[1m7s\u001b[0m 225ms/step - accuracy: 0.9974 - loss: 0.0208 - val_accuracy: 0.9848 - val_loss: 0.1731\n",
      "Epoch 8/20\n",
      "\u001b[1m33/33\u001b[0m \u001b[32m━━━━━━━━━━━━━━━━━━━━\u001b[0m\u001b[37m\u001b[0m \u001b[1m7s\u001b[0m 224ms/step - accuracy: 0.9992 - loss: 0.0035 - val_accuracy: 0.9508 - val_loss: 0.2291\n",
      "Epoch 9/20\n",
      "\u001b[1m33/33\u001b[0m \u001b[32m━━━━━━━━━━━━━━━━━━━━\u001b[0m\u001b[37m\u001b[0m \u001b[1m7s\u001b[0m 225ms/step - accuracy: 0.9924 - loss: 0.0102 - val_accuracy: 0.9811 - val_loss: 0.2076\n",
      "Epoch 10/20\n",
      "\u001b[1m33/33\u001b[0m \u001b[32m━━━━━━━━━━━━━━━━━━━━\u001b[0m\u001b[37m\u001b[0m \u001b[1m7s\u001b[0m 224ms/step - accuracy: 1.0000 - loss: 3.4624e-04 - val_accuracy: 0.9848 - val_loss: 0.2237\n",
      "Epoch 11/20\n",
      "\u001b[1m33/33\u001b[0m \u001b[32m━━━━━━━━━━━━━━━━━━━━\u001b[0m\u001b[37m\u001b[0m \u001b[1m7s\u001b[0m 223ms/step - accuracy: 1.0000 - loss: 1.6615e-04 - val_accuracy: 0.9848 - val_loss: 0.2350\n",
      "Epoch 12/20\n",
      "\u001b[1m33/33\u001b[0m \u001b[32m━━━━━━━━━━━━━━━━━━━━\u001b[0m\u001b[37m\u001b[0m \u001b[1m7s\u001b[0m 224ms/step - accuracy: 1.0000 - loss: 1.0468e-04 - val_accuracy: 0.9848 - val_loss: 0.2416\n",
      "Epoch 13/20\n",
      "\u001b[1m33/33\u001b[0m \u001b[32m━━━━━━━━━━━━━━━━━━━━\u001b[0m\u001b[37m\u001b[0m \u001b[1m7s\u001b[0m 224ms/step - accuracy: 1.0000 - loss: 1.1841e-04 - val_accuracy: 0.9848 - val_loss: 0.2502\n",
      "Epoch 14/20\n",
      "\u001b[1m33/33\u001b[0m \u001b[32m━━━━━━━━━━━━━━━━━━━━\u001b[0m\u001b[37m\u001b[0m \u001b[1m7s\u001b[0m 224ms/step - accuracy: 1.0000 - loss: 7.6840e-05 - val_accuracy: 0.9848 - val_loss: 0.2541\n",
      "Epoch 15/20\n",
      "\u001b[1m33/33\u001b[0m \u001b[32m━━━━━━━━━━━━━━━━━━━━\u001b[0m\u001b[37m\u001b[0m \u001b[1m7s\u001b[0m 225ms/step - accuracy: 1.0000 - loss: 5.0677e-05 - val_accuracy: 0.9848 - val_loss: 0.2646\n",
      "Epoch 16/20\n",
      "\u001b[1m33/33\u001b[0m \u001b[32m━━━━━━━━━━━━━━━━━━━━\u001b[0m\u001b[37m\u001b[0m \u001b[1m7s\u001b[0m 225ms/step - accuracy: 1.0000 - loss: 3.8305e-05 - val_accuracy: 0.9848 - val_loss: 0.2729\n",
      "Epoch 17/20\n",
      "\u001b[1m33/33\u001b[0m \u001b[32m━━━━━━━━━━━━━━━━━━━━\u001b[0m\u001b[37m\u001b[0m \u001b[1m7s\u001b[0m 225ms/step - accuracy: 1.0000 - loss: 3.1755e-05 - val_accuracy: 0.9848 - val_loss: 0.2799\n",
      "Epoch 18/20\n",
      "\u001b[1m33/33\u001b[0m \u001b[32m━━━━━━━━━━━━━━━━━━━━\u001b[0m\u001b[37m\u001b[0m \u001b[1m7s\u001b[0m 225ms/step - accuracy: 1.0000 - loss: 2.1461e-05 - val_accuracy: 0.9848 - val_loss: 0.2941\n",
      "Epoch 19/20\n",
      "\u001b[1m33/33\u001b[0m \u001b[32m━━━━━━━━━━━━━━━━━━━━\u001b[0m\u001b[37m\u001b[0m \u001b[1m7s\u001b[0m 225ms/step - accuracy: 1.0000 - loss: 1.7454e-05 - val_accuracy: 0.9848 - val_loss: 0.3097\n",
      "Epoch 20/20\n",
      "\u001b[1m33/33\u001b[0m \u001b[32m━━━━━━━━━━━━━━━━━━━━\u001b[0m\u001b[37m\u001b[0m \u001b[1m7s\u001b[0m 225ms/step - accuracy: 1.0000 - loss: 1.2802e-05 - val_accuracy: 0.9848 - val_loss: 0.3215\n"
     ]
    }
   ],
   "source": [
    "history = siamese_model.fit(\n",
    "    [pairs[:, 0], pairs[:, 1]], labels,\n",
    "    batch_size=32,\n",
    "    epochs=20,\n",
    "    validation_split=0.2\n",
    ")"
   ]
  },
  {
   "cell_type": "code",
   "execution_count": 12,
   "id": "ba09d4a5",
   "metadata": {
    "execution": {
     "iopub.execute_input": "2025-03-24T15:46:35.000367Z",
     "iopub.status.busy": "2025-03-24T15:46:35.000069Z",
     "iopub.status.idle": "2025-03-24T15:46:37.548829Z",
     "shell.execute_reply": "2025-03-24T15:46:37.547909Z"
    },
    "papermill": {
     "duration": 2.622274,
     "end_time": "2025-03-24T15:46:37.550165",
     "exception": false,
     "start_time": "2025-03-24T15:46:34.927891",
     "status": "completed"
    },
    "tags": []
   },
   "outputs": [
    {
     "name": "stdout",
     "output_type": "stream",
     "text": [
      "✅ Siamese Model Saved Successfully!\n"
     ]
    }
   ],
   "source": [
    "siamese_model.save(\"/kaggle/working/siamese_disease_recognition.h5\")\n",
    "print(\"✅ Siamese Model Saved Successfully!\")"
   ]
  }
 ],
 "metadata": {
  "kaggle": {
   "accelerator": "nvidiaTeslaT4",
   "dataSources": [
    {
     "datasetId": 6850316,
     "sourceId": 11004078,
     "sourceType": "datasetVersion"
    }
   ],
   "dockerImageVersionId": 30919,
   "isGpuEnabled": true,
   "isInternetEnabled": true,
   "language": "python",
   "sourceType": "notebook"
  },
  "kernelspec": {
   "display_name": "Python 3",
   "language": "python",
   "name": "python3"
  },
  "language_info": {
   "codemirror_mode": {
    "name": "ipython",
    "version": 3
   },
   "file_extension": ".py",
   "mimetype": "text/x-python",
   "name": "python",
   "nbconvert_exporter": "python",
   "pygments_lexer": "ipython3",
   "version": "3.10.12"
  },
  "papermill": {
   "default_parameters": {},
   "duration": 509.98053,
   "end_time": "2025-03-24T15:46:40.184556",
   "environment_variables": {},
   "exception": null,
   "input_path": "__notebook__.ipynb",
   "output_path": "__notebook__.ipynb",
   "parameters": {},
   "start_time": "2025-03-24T15:38:10.204026",
   "version": "2.6.0"
  }
 },
 "nbformat": 4,
 "nbformat_minor": 5
}
